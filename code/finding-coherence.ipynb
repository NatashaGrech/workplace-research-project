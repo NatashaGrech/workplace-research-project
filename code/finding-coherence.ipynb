{
 "cells": [
  {
   "cell_type": "code",
   "execution_count": 70,
   "id": "bc379f77-0935-4114-9048-5666fd2ce962",
   "metadata": {},
   "outputs": [],
   "source": [
    "import nltk\n",
    "from nltk.tokenize import word_tokenize\n",
    "import pandas as pd\n",
    "import gensim\n",
    "\n",
    "#Reading the data from the three seperate files into dataframes\n",
    "df_1 = pd.read_csv('Posts1.csv')\n",
    "df_2 = pd.read_csv('Posts2.csv')\n",
    "df_3 = pd.read_csv('Posts3.csv')\n",
    "\n",
    "data = 'Body_Preprocessed'\n",
    "\n",
    "df_1[data]=df_1[data].fillna(\" \")\n",
    "df_2[data]=df_2[data].fillna(\" \")\n",
    "df_3[data]=df_3[data].fillna(\" \")\n",
    "\n",
    "#https://melaniewalsh.github.io/Intro-Cultural-Analytics/05-Text-Analysis/10-Topic-Modeling-CSV.html\n",
    "#Extracting the preprocessed data into a variable\n",
    "data = [word_tokenize(text) for text in df_1['Body_Preprocessed']] + [word_tokenize(text) for text in df_2['Body_Preprocessed']] + [word_tokenize(text) for text in df_3['Body_Preprocessed']]\n",
    "\n",
    "#https://www.youtube.com/watch?v=TgXLq1XIdA0\n",
    "#Build a dictionary for the corpus\n",
    "corpus_dictionary = gensim.corpora.Dictionary(data)\n"
   ]
  },
  {
   "cell_type": "code",
   "execution_count": 5,
   "id": "8466703b-7c35-4b3b-b613-bf1eca79e942",
   "metadata": {},
   "outputs": [
    {
     "name": "stdout",
     "output_type": "stream",
     "text": [
      "Dictionary<72397 unique tokens: ['add', 'circumst', 'overli', 'vagu', 'worthwhil']...>\n"
     ]
    }
   ],
   "source": [
    "print(corpus_dictionary)"
   ]
  },
  {
   "cell_type": "code",
   "execution_count": 89,
   "id": "069298f7-25ef-458d-b6f4-4f6053483c77",
   "metadata": {},
   "outputs": [
    {
     "name": "stdout",
     "output_type": "stream",
     "text": [
      "Coherence Score:  0.3725454714181842\n"
     ]
    }
   ],
   "source": [
    "#Importing the topics\n",
    "\n",
    "df = pd.read_csv('topic-state-70.txt', sep=\" \", header=None)\n",
    "df.columns = [\"doc\", \"source\", \"pos\", \"typeindex\", \"type\", \"topic\"]\n",
    "\n",
    "gf = df.groupby('topic').agg({'type': lambda x: list(x)})\n",
    "\n",
    "topics = gf['type'].astype(str)\n",
    "\n",
    "topics = topics.tolist()\n",
    "\n",
    "from gensim.models.coherencemodel import CoherenceModel\n",
    "\n",
    "cm = CoherenceModel(topics=topics, texts=data, dictionary=corpus_dictionary, coherence='c_v')\n",
    "coherence = cm.get_coherence()\n",
    "print('Coherence Score: ', coherence)\n"
   ]
  },
  {
   "cell_type": "code",
   "execution_count": null,
   "id": "5f909ca3-04a4-435a-9582-856728850bc4",
   "metadata": {},
   "outputs": [],
   "source": []
  }
 ],
 "metadata": {
  "kernelspec": {
   "display_name": "Python 3 (ipykernel)",
   "language": "python",
   "name": "python3"
  },
  "language_info": {
   "codemirror_mode": {
    "name": "ipython",
    "version": 3
   },
   "file_extension": ".py",
   "mimetype": "text/x-python",
   "name": "python",
   "nbconvert_exporter": "python",
   "pygments_lexer": "ipython3",
   "version": "3.10.11"
  }
 },
 "nbformat": 4,
 "nbformat_minor": 5
}
