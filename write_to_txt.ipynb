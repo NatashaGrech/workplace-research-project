{
 "cells": [
  {
   "cell_type": "code",
   "execution_count": 1,
   "id": "5c6bfb8b-ba6a-4c5e-9257-5336d28e28d8",
   "metadata": {
    "scrolled": true
   },
   "outputs": [],
   "source": [
    "#https://stackoverflow.com/questions/62411779/write-a-text-file-for-each-row-in-a-csv\n",
    "#https://stackoverflow.com/questions/9233027/unicodedecodeerror-charmap-codec-cant-decode-byte-x-in-position-y-character\n",
    "#https://stackoverflow.com/questions/27092833/unicodeencodeerror-charmap-codec-cant-encode-characters\n",
    "\n",
    "\n",
    "import csv\n",
    "with open('Posts_v2.csv', encoding=\"utf8\") as csvfile:\n",
    "    reader = csv.DictReader(csvfile)\n",
    "    for row in reader:\n",
    "        file_name ='{0}.txt'.format(row['Id']) \n",
    "        with open(file_name, 'w', encoding=\"utf8\") as f:\n",
    "            f.write(row['clean'])"
   ]
  },
  {
   "cell_type": "code",
   "execution_count": null,
   "id": "79e820f4-6adf-4dc2-8084-00f3341e2b36",
   "metadata": {},
   "outputs": [],
   "source": []
  }
 ],
 "metadata": {
  "kernelspec": {
   "display_name": "Python 3 (ipykernel)",
   "language": "python",
   "name": "python3"
  },
  "language_info": {
   "codemirror_mode": {
    "name": "ipython",
    "version": 3
   },
   "file_extension": ".py",
   "mimetype": "text/x-python",
   "name": "python",
   "nbconvert_exporter": "python",
   "pygments_lexer": "ipython3",
   "version": "3.10.0"
  }
 },
 "nbformat": 4,
 "nbformat_minor": 5
}
