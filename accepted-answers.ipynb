{
 "cells": [
  {
   "cell_type": "code",
   "execution_count": 5,
   "id": "3bb49bed-c731-4093-a9fd-0ec784806536",
   "metadata": {},
   "outputs": [],
   "source": [
    "#Seperating out accepted answers from the dataset to see if there's an increase the coherence score\n",
    "\n",
    "#Step 1: Read CSV file into a dataframe\n",
    "\n",
    "import pandas as pd\n",
    "\n",
    "#Read in the files\n",
    "df_1 = pd.read_csv('Posts1.csv')\n",
    "df_2 = pd.read_csv('Posts2.csv')\n",
    "df_3 = pd.read_csv('Posts3.csv')\n",
    "\n",
    "#merge the three dataframes together\n",
    "frames = [df_1, df_2, df_3]\n",
    "\n",
    "df = pd.concat(frames, ignore_index=True)"
   ]
  },
  {
   "cell_type": "code",
   "execution_count": 40,
   "id": "987d846b-880a-4192-a011-bbd69617be85",
   "metadata": {},
   "outputs": [],
   "source": [
    "\n",
    "\n",
    "#Drop any posts that aren't questions or answers\n",
    "df = df.drop(df[(df.PostTypeId > 2)].index)\n",
    "\n",
    "#Fill NaN values for AcceptedAnswerId with 0 - to prevent errors in other steps\n",
    "df['AcceptedAnswerId']=df['AcceptedAnswerId'].fillna(0.0)\n",
    "\n",
    "#Step 2: Group the dataframe rows by PostTypeId to seperate questions and answers, and create a list \n",
    "#        of acceptable answer Ids\n",
    "\n",
    "#Group Question and Answer posts and aggregate the accepted answer Ids into lists \n",
    "#       - Answer posts  (2.0) should only have 0 values\n",
    "gf = df.groupby('PostTypeId').agg({'AcceptedAnswerId': lambda x: list(x)})\n",
    "\n",
    "#Step 3: Store AcceptedAnswerIds in a list where PostTypeId equals 1.0\n",
    "# This represents the Ids for the answers that have been accepted by the user who posted the question\n",
    "# 0.0 represents the question posts that had no accepted answer\n",
    "\n",
    "#Move the acceptable answer ids list from a dataframe column into a list\n",
    "answer_ids = [answers for answers in gf.at[1, 'AcceptedAnswerId']]\n",
    "\n",
    "#Sort the list in ascending order\n",
    "answer_ids.sort()\n",
    "\n",
    "# Step 4: Drop all rows that are answers (PostTypeId = 2) that do not have an id in the \n",
    "#         accepted answer id list\n",
    "\n",
    "#Drop a row if it is an answer and if it's Id is not on the acceptable answer id list\n",
    "df = df.drop(df[(df.PostTypeId == 2) & (~df.Id.isin(answer_ids))].index)\n",
    "\n",
    "# Step 5: Storing the results in a new csv file\n",
    "\n",
    "df.to_csv('Posts-update.csv')"
   ]
  },
  {
   "cell_type": "code",
   "execution_count": null,
   "id": "f1228f11-8094-4e77-a4e6-afdf58c6f27a",
   "metadata": {},
   "outputs": [],
   "source": []
  }
 ],
 "metadata": {
  "kernelspec": {
   "display_name": "Python 3 (ipykernel)",
   "language": "python",
   "name": "python3"
  },
  "language_info": {
   "codemirror_mode": {
    "name": "ipython",
    "version": 3
   },
   "file_extension": ".py",
   "mimetype": "text/x-python",
   "name": "python",
   "nbconvert_exporter": "python",
   "pygments_lexer": "ipython3",
   "version": "3.10.0"
  }
 },
 "nbformat": 4,
 "nbformat_minor": 5
}
